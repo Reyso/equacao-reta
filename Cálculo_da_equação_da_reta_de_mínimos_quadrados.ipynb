{
  "nbformat": 4,
  "nbformat_minor": 0,
  "metadata": {
    "colab": {
      "name": "Cálculo da equação da reta de mínimos quadrados",
      "provenance": [],
      "authorship_tag": "ABX9TyMo2KnGndEV0yD4K0+lGacH",
      "include_colab_link": true
    },
    "kernelspec": {
      "name": "python3",
      "display_name": "Python 3"
    },
    "language_info": {
      "name": "python"
    }
  },
  "cells": [
    {
      "cell_type": "markdown",
      "metadata": {
        "id": "view-in-github",
        "colab_type": "text"
      },
      "source": [
        "<a href=\"https://colab.research.google.com/github/Reyso/reyso/blob/master/C%C3%A1lculo_da_equa%C3%A7%C3%A3o_da_reta_de_m%C3%ADnimos_quadrados.ipynb\" target=\"_parent\"><img src=\"https://colab.research.google.com/assets/colab-badge.svg\" alt=\"Open In Colab\"/></a>"
      ]
    },
    {
      "cell_type": "markdown",
      "source": [
        "$\\hat{\\textbf{y}}$ define a reta da regressão, dada por: \n",
        "\n",
        "\n",
        "\n",
        "$\\hat{\\textbf{y}} = m * \\bar{\\textbf{x}} + b$\n",
        "\n",
        "\n",
        "*   $m$ é a inclinação da reta\n",
        "*   $\\bar{\\textbf{x}}$ é a média de x\n",
        "*    $\\bar{\\textbf{y}}$ é a média de y\n",
        "*   b é o ponto que a reta toca no eixo y\n",
        "\n",
        "\n"
      ],
      "metadata": {
        "id": "iMCWTO_cUxNv"
      }
    },
    {
      "cell_type": "code",
      "execution_count": 31,
      "metadata": {
        "id": "-l5V68JjUOHG"
      },
      "outputs": [],
      "source": [
        "xm = 57.4 #media de x\n",
        "ym = 69.9  #media de y\n",
        "sx = 30.8 #desvio padrão de x\n",
        "sy = 35 #desvio padrão de y\n",
        "r = 0.99 # z"
      ]
    },
    {
      "cell_type": "code",
      "source": [
        "# m é a inclinação da reta\n",
        "m = r*(sy/sx)\n",
        "print(f'Inclinação da reta: m = {m:.3f}')\n"
      ],
      "metadata": {
        "id": "F8Q9TiBGUjnV",
        "colab": {
          "base_uri": "https://localhost:8080/"
        },
        "outputId": "ba9552fa-11a1-4e15-fbdf-f87a481af124"
      },
      "execution_count": 32,
      "outputs": [
        {
          "output_type": "stream",
          "name": "stdout",
          "text": [
            "Inclinação da reta: m = 1.125\n"
          ]
        }
      ]
    },
    {
      "cell_type": "code",
      "source": [
        "b = ym - m*xm\n",
        "print(f'ponto da reta que toca em y: b = {b:.3f}')"
      ],
      "metadata": {
        "colab": {
          "base_uri": "https://localhost:8080/"
        },
        "id": "r2kKOZ4XZQy_",
        "outputId": "43d29baf-ed4f-4a1e-f83e-a227f2bf11f5"
      },
      "execution_count": 33,
      "outputs": [
        {
          "output_type": "stream",
          "name": "stdout",
          "text": [
            "ponto da reta que toca em y: b = 5.325\n"
          ]
        }
      ]
    }
  ]
}